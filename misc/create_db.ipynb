{
 "cells": [
  {
   "cell_type": "code",
   "execution_count": 2,
   "metadata": {},
   "outputs": [],
   "source": [
    "import os\n",
    "import json\n",
    "import sqlite3\n"
   ]
  },
  {
   "cell_type": "code",
   "execution_count": 4,
   "metadata": {},
   "outputs": [
    {
     "name": "stdout",
     "output_type": "stream",
     "text": [
      "Table updated for Principle1\n",
      "Table updated for Principle2\n",
      "[Errno 2] No such file or directory: './json_files/w_principle_3.json'\n",
      "Table updated for Principle4\n",
      "Table updated for Principle5\n",
      "Table updated for Principle6\n",
      "Table updated for Principle7\n",
      "Table updated for Principle8\n",
      "Table updated for Principle9\n",
      "Table updated for Principle10\n",
      "Table updated for Principle11\n",
      "Table updated for Principle12\n",
      "Table updated for Principle13\n",
      "[Errno 2] No such file or directory: './json_files/w_principle_14.json'\n",
      "Table updated for Principle15\n",
      "Table updated for Principle16\n",
      "Table updated for Principle17\n",
      "Table updated for Principle18\n",
      "[Errno 2] No such file or directory: './json_files/w_principle_19.json'\n",
      "Table updated for Principle20\n",
      "Table updated for Principle21\n",
      "[Errno 2] No such file or directory: './json_files/w_principle_22.json'\n",
      "[Errno 2] No such file or directory: './json_files/w_principle_23.json'\n",
      "Table updated for Principle24\n",
      "Table updated for Principle25\n",
      "Table updated for Principle26\n"
     ]
    }
   ],
   "source": [
    "db_path = './DBs/principles.db'\n",
    "if os.path.exists(db_path):\n",
    "      os.remove(db_path)\n",
    "conn = sqlite3.connect(db_path)\n",
    "cursor = conn.cursor()\n",
    "\n",
    "# Creating tables for 26 principles\n",
    "for i in range(1, 27):\n",
    "    cursor.execute(f'''\n",
    "        CREATE TABLE IF NOT EXISTS principle{i} (\n",
    "                pid INT,\n",
    "                qid INT,\n",
    "                with_principle TEXT,\n",
    "                without_principle TEXT,\n",
    "                response_with_principle TEXT,\n",
    "                response_without_principle TEXT,\n",
    "                human_preference INT,\n",
    "                machine_preference INT,\n",
    "                machine_pref_justification TEXT,\n",
    "                correctness_gpt3_5turbo INT,\n",
    "                correctness_gpt4 INT,\n",
    "                correctness_gpt4o INT\n",
    "                )\n",
    "        ''')\n",
    "\n",
    "\n",
    "root = './json_files'\n",
    "files = os.listdir(root)\n",
    "\n",
    "for pid in range(1, 27):    \n",
    "    try:\n",
    "        f1 = f'{root}/w_principle_{pid}.json'\n",
    "        f2 = f'{root}/wo_principle_{pid}.json'\n",
    "        data1 = json.load(open(f1))\n",
    "        data2 = json.load(open(f2))\n",
    "        for iter in range(len(data1)):\n",
    "                qid = iter + 1\n",
    "                # print(res_w_p)\n",
    "                qs_w_p = data1[iter]['conversations'][0]['value']\n",
    "                res_w_p = data1[iter]['conversations'][1]['value']\n",
    "                qs_wo_p = data2[iter]['conversations'][0]['value']\n",
    "                res_wo_p = data2[iter]['conversations'][1]['value']\n",
    "                cursor.execute(f''' \n",
    "                        INSERT INTO principle{pid} (pid, qid, with_principle, without_principle, response_with_principle, response_without_principle, human_preference)\n",
    "                        VALUES (?, ?, ?, ?, ?, ?, ?)\n",
    "                        ''', (pid, qid, qs_w_p, qs_wo_p, res_w_p, res_wo_p, 1))\n",
    "                conn.commit()\n",
    "        print(f'Table updated for Principle{pid}')\n",
    "    except Exception as E:\n",
    "        print(E)\n",
    "\n",
    "cursor.close()\n",
    "conn.close()\n",
    "\n"
   ]
  },
  {
   "cell_type": "code",
   "execution_count": null,
   "metadata": {},
   "outputs": [],
   "source": []
  }
 ],
 "metadata": {
  "kernelspec": {
   "display_name": "torch",
   "language": "python",
   "name": "python3"
  },
  "language_info": {
   "codemirror_mode": {
    "name": "ipython",
    "version": 3
   },
   "file_extension": ".py",
   "mimetype": "text/x-python",
   "name": "python",
   "nbconvert_exporter": "python",
   "pygments_lexer": "ipython3",
   "version": "3.1.-1"
  }
 },
 "nbformat": 4,
 "nbformat_minor": 2
}
